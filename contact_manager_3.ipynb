{
 "cells": [
  {
   "cell_type": "markdown",
   "metadata": {},
   "source": [
    "# write a contact list\n",
    "# add number\n",
    "# print contact\n",
    "# search name or number\n",
    "# backup contacts\n",
    "# import contact from backup"
   ]
  },
  {
   "cell_type": "code",
   "execution_count": 55,
   "metadata": {},
   "outputs": [],
   "source": [
    "import json\n",
    "\n",
    "class ContactManager:\n",
    "    def __init__(self, path=\"-\"):\n",
    "        self.contact_list = []\n",
    "        if path != \"-\":\n",
    "            print(\"Loading previous contacs...\")\n",
    "            with open(path, \"r\") as file:\n",
    "                self.contact_list = json.loads(file.read())\n",
    "\n",
    "    def add(self, name, number):\n",
    "               self.contact_list.append({\"Name\": name, \"Number\": number})\n",
    "\n",
    "    def print(self):\n",
    "        print(f\"your contacts: {self.contact_list}\")\n",
    "\n",
    "    def search(self, name= \"-\", number= \"-\"):\n",
    "        resault = []\n",
    "        for single_contact in self.contact_list:\n",
    "            if name != \"-\":\n",
    "                if name.lower() in single_contact[\"Name\"].lower():\n",
    "                    resault.append(single_contact)\n",
    "            if number != \"-\":\n",
    "                if number in single_contact[\"Number\"]:\n",
    "                    resault.append(single_contact)\n",
    "        print(resault)\n",
    "\n",
    "    def backup(self):\n",
    "        with open(\"./contact_list_3.json\", \"w\") as file:\n",
    "            file.write(json.dumps(self.contact_list))\n"
   ]
  },
  {
   "cell_type": "code",
   "execution_count": 56,
   "metadata": {},
   "outputs": [
    {
     "name": "stdout",
     "output_type": "stream",
     "text": [
      "your contacts: [{'Name': 'Sara', 'Number': '4156535'}]\n"
     ]
    }
   ],
   "source": [
    "contact = ContactManager()\n",
    "contact.add(\"Sara\", \"4156535\")\n",
    "contact.print()"
   ]
  },
  {
   "cell_type": "code",
   "execution_count": 57,
   "metadata": {},
   "outputs": [
    {
     "name": "stdout",
     "output_type": "stream",
     "text": [
      "your contacts: [{'Name': 'Sara', 'Number': '4156535'}, {'Name': 'Sarin', 'Number': '55546878'}]\n"
     ]
    }
   ],
   "source": [
    "contact.add(\"Sarin\", \"55546878\")\n",
    "contact.print()"
   ]
  },
  {
   "cell_type": "code",
   "execution_count": 58,
   "metadata": {},
   "outputs": [
    {
     "name": "stdout",
     "output_type": "stream",
     "text": [
      "[{'Name': 'Sara', 'Number': '4156535'}, {'Name': 'Sarin', 'Number': '55546878'}]\n"
     ]
    }
   ],
   "source": [
    "contact.search(\"sa\")"
   ]
  },
  {
   "cell_type": "code",
   "execution_count": 59,
   "metadata": {},
   "outputs": [
    {
     "name": "stdout",
     "output_type": "stream",
     "text": [
      "[{'Name': 'Sarin', 'Number': '55546878'}]\n"
     ]
    }
   ],
   "source": [
    "contact.search(number= \"555\") "
   ]
  },
  {
   "cell_type": "code",
   "execution_count": 60,
   "metadata": {},
   "outputs": [
    {
     "name": "stdout",
     "output_type": "stream",
     "text": [
      "[{'Name': 'Sarin', 'Number': '55546878'}]\n"
     ]
    }
   ],
   "source": [
    "contact.search(name= \"N\") "
   ]
  },
  {
   "cell_type": "code",
   "execution_count": 61,
   "metadata": {},
   "outputs": [
    {
     "name": "stdout",
     "output_type": "stream",
     "text": [
      "[{'Name': 'Sara', 'Number': '4156535'}]\n"
     ]
    }
   ],
   "source": [
    "contact.search(number= \"65\") "
   ]
  },
  {
   "cell_type": "code",
   "execution_count": 62,
   "metadata": {},
   "outputs": [],
   "source": [
    "contact.backup()"
   ]
  },
  {
   "cell_type": "code",
   "execution_count": 63,
   "metadata": {},
   "outputs": [
    {
     "name": "stdout",
     "output_type": "stream",
     "text": [
      "Loading previous contacs...\n",
      "your contacts: [{'Name': 'Sara', 'Number': '4156535'}, {'Name': 'Sarin', 'Number': '55546878'}]\n"
     ]
    }
   ],
   "source": [
    "my_contact = ContactManager(path= \"./contact_list_3.json\")\n",
    "my_contact.print()"
   ]
  },
  {
   "cell_type": "code",
   "execution_count": 64,
   "metadata": {},
   "outputs": [
    {
     "name": "stdout",
     "output_type": "stream",
     "text": [
      "your contacts: [{'Name': 'Sara', 'Number': '4156535'}, {'Name': 'Sarin', 'Number': '55546878'}, {'Name': 'Athena', 'Number': '2926565'}]\n"
     ]
    }
   ],
   "source": [
    "contact.add(\"Athena\", \"2926565\")\n",
    "contact.print()"
   ]
  }
 ],
 "metadata": {
  "kernelspec": {
   "display_name": "Python 3",
   "language": "python",
   "name": "python3"
  },
  "language_info": {
   "codemirror_mode": {
    "name": "ipython",
    "version": 3
   },
   "file_extension": ".py",
   "mimetype": "text/x-python",
   "name": "python",
   "nbconvert_exporter": "python",
   "pygments_lexer": "ipython3",
   "version": "3.12.1"
  }
 },
 "nbformat": 4,
 "nbformat_minor": 2
}
